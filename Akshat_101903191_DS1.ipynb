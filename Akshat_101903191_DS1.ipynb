{
 "cells": [
  {
   "cell_type": "code",
   "execution_count": 1,
   "id": "8ca2f75b",
   "metadata": {
    "_cell_guid": "b1076dfc-b9ad-4769-8c92-a6c4dae69d19",
    "_uuid": "8f2839f25d086af736a60e9eeb907d3b93b6e0e5",
    "execution": {
     "iopub.execute_input": "2022-02-28T17:40:37.288824Z",
     "iopub.status.busy": "2022-02-28T17:40:37.287360Z",
     "iopub.status.idle": "2022-02-28T17:40:37.299043Z",
     "shell.execute_reply": "2022-02-28T17:40:37.299497Z",
     "shell.execute_reply.started": "2022-02-28T17:38:27.254767Z"
    },
    "papermill": {
     "duration": 0.061045,
     "end_time": "2022-02-28T17:40:37.299719",
     "exception": false,
     "start_time": "2022-02-28T17:40:37.238674",
     "status": "completed"
    },
    "tags": []
   },
   "outputs": [
    {
     "name": "stdout",
     "output_type": "stream",
     "text": [
      "/kaggle/input/house-prices-advanced-regression-techniques/sample_submission.csv\n",
      "/kaggle/input/house-prices-advanced-regression-techniques/data_description.txt\n",
      "/kaggle/input/house-prices-advanced-regression-techniques/train.csv\n",
      "/kaggle/input/house-prices-advanced-regression-techniques/test.csv\n"
     ]
    }
   ],
   "source": [
    "# Input data files are available in the read-only \"../input/\" directory\n",
    "# For example, running this (by clicking run or pressing Shift+Enter) will list all files under the input directory\n",
    "\n",
    "import os\n",
    "for dirname, _, filenames in os.walk('/kaggle/input'):\n",
    "    for filename in filenames:\n",
    "        print(os.path.join(dirname, filename))"
   ]
  },
  {
   "cell_type": "code",
   "execution_count": 2,
   "id": "12b07270",
   "metadata": {
    "execution": {
     "iopub.execute_input": "2022-02-28T17:40:37.434428Z",
     "iopub.status.busy": "2022-02-28T17:40:37.433787Z",
     "iopub.status.idle": "2022-02-28T17:40:41.442005Z",
     "shell.execute_reply": "2022-02-28T17:40:41.441509Z",
     "shell.execute_reply.started": "2022-02-28T17:38:27.458324Z"
    },
    "papermill": {
     "duration": 4.077369,
     "end_time": "2022-02-28T17:40:41.442150",
     "exception": false,
     "start_time": "2022-02-28T17:40:37.364781",
     "status": "completed"
    },
    "tags": []
   },
   "outputs": [],
   "source": [
    "import cupy, cudf, cuml"
   ]
  },
  {
   "cell_type": "markdown",
   "id": "15c7c086",
   "metadata": {
    "papermill": {
     "duration": 0.042783,
     "end_time": "2022-02-28T17:40:41.531376",
     "exception": false,
     "start_time": "2022-02-28T17:40:41.488593",
     "status": "completed"
    },
    "tags": []
   },
   "source": [
    "Loading train data from .csv file"
   ]
  },
  {
   "cell_type": "code",
   "execution_count": 3,
   "id": "9bd5b34a",
   "metadata": {
    "execution": {
     "iopub.execute_input": "2022-02-28T17:40:41.621086Z",
     "iopub.status.busy": "2022-02-28T17:40:41.620389Z",
     "iopub.status.idle": "2022-02-28T17:40:45.407866Z",
     "shell.execute_reply": "2022-02-28T17:40:45.407337Z",
     "shell.execute_reply.started": "2022-02-28T17:38:27.970711Z"
    },
    "papermill": {
     "duration": 3.834435,
     "end_time": "2022-02-28T17:40:45.408025",
     "exception": false,
     "start_time": "2022-02-28T17:40:41.573590",
     "status": "completed"
    },
    "tags": []
   },
   "outputs": [],
   "source": [
    "path = \"../input/house-prices-advanced-regression-techniques/\"\n",
    "train_df = cudf.read_csv(path+\"train.csv\")"
   ]
  },
  {
   "cell_type": "markdown",
   "id": "8a55cabb",
   "metadata": {
    "papermill": {
     "duration": 0.042505,
     "end_time": "2022-02-28T17:40:45.493825",
     "exception": false,
     "start_time": "2022-02-28T17:40:45.451320",
     "status": "completed"
    },
    "tags": []
   },
   "source": [
    "Viewing column names, non-null count and data type"
   ]
  },
  {
   "cell_type": "code",
   "execution_count": 4,
   "id": "94f825d5",
   "metadata": {
    "execution": {
     "iopub.execute_input": "2022-02-28T17:40:45.590247Z",
     "iopub.status.busy": "2022-02-28T17:40:45.589669Z",
     "iopub.status.idle": "2022-02-28T17:40:45.649490Z",
     "shell.execute_reply": "2022-02-28T17:40:45.649950Z",
     "shell.execute_reply.started": "2022-02-28T17:38:28.020778Z"
    },
    "papermill": {
     "duration": 0.114424,
     "end_time": "2022-02-28T17:40:45.650124",
     "exception": false,
     "start_time": "2022-02-28T17:40:45.535700",
     "status": "completed"
    },
    "tags": []
   },
   "outputs": [
    {
     "name": "stdout",
     "output_type": "stream",
     "text": [
      "<class 'cudf.core.dataframe.DataFrame'>\n",
      "RangeIndex: 1460 entries, 0 to 1459\n",
      "Data columns (total 81 columns):\n",
      " #   Column         Non-Null Count  Dtype\n",
      "---  ------         --------------  -----\n",
      " 0   Id             1460 non-null   int64\n",
      " 1   MSSubClass     1460 non-null   int64\n",
      " 2   MSZoning       1460 non-null   object\n",
      " 3   LotFrontage    1201 non-null   float64\n",
      " 4   LotArea        1460 non-null   int64\n",
      " 5   Street         1460 non-null   object\n",
      " 6   Alley          91 non-null     object\n",
      " 7   LotShape       1460 non-null   object\n",
      " 8   LandContour    1460 non-null   object\n",
      " 9   Utilities      1460 non-null   object\n",
      " 10  LotConfig      1460 non-null   object\n",
      " 11  LandSlope      1460 non-null   object\n",
      " 12  Neighborhood   1460 non-null   object\n",
      " 13  Condition1     1460 non-null   object\n",
      " 14  Condition2     1460 non-null   object\n",
      " 15  BldgType       1460 non-null   object\n",
      " 16  HouseStyle     1460 non-null   object\n",
      " 17  OverallQual    1460 non-null   int64\n",
      " 18  OverallCond    1460 non-null   int64\n",
      " 19  YearBuilt      1460 non-null   int64\n",
      " 20  YearRemodAdd   1460 non-null   int64\n",
      " 21  RoofStyle      1460 non-null   object\n",
      " 22  RoofMatl       1460 non-null   object\n",
      " 23  Exterior1st    1460 non-null   object\n",
      " 24  Exterior2nd    1460 non-null   object\n",
      " 25  MasVnrType     1452 non-null   object\n",
      " 26  MasVnrArea     1452 non-null   float64\n",
      " 27  ExterQual      1460 non-null   object\n",
      " 28  ExterCond      1460 non-null   object\n",
      " 29  Foundation     1460 non-null   object\n",
      " 30  BsmtQual       1423 non-null   object\n",
      " 31  BsmtCond       1423 non-null   object\n",
      " 32  BsmtExposure   1422 non-null   object\n",
      " 33  BsmtFinType1   1423 non-null   object\n",
      " 34  BsmtFinSF1     1460 non-null   int64\n",
      " 35  BsmtFinType2   1422 non-null   object\n",
      " 36  BsmtFinSF2     1460 non-null   int64\n",
      " 37  BsmtUnfSF      1460 non-null   int64\n",
      " 38  TotalBsmtSF    1460 non-null   int64\n",
      " 39  Heating        1460 non-null   object\n",
      " 40  HeatingQC      1460 non-null   object\n",
      " 41  CentralAir     1460 non-null   object\n",
      " 42  Electrical     1459 non-null   object\n",
      " 43  1stFlrSF       1460 non-null   int64\n",
      " 44  2ndFlrSF       1460 non-null   int64\n",
      " 45  LowQualFinSF   1460 non-null   int64\n",
      " 46  GrLivArea      1460 non-null   int64\n",
      " 47  BsmtFullBath   1460 non-null   int64\n",
      " 48  BsmtHalfBath   1460 non-null   int64\n",
      " 49  FullBath       1460 non-null   int64\n",
      " 50  HalfBath       1460 non-null   int64\n",
      " 51  BedroomAbvGr   1460 non-null   int64\n",
      " 52  KitchenAbvGr   1460 non-null   int64\n",
      " 53  KitchenQual    1460 non-null   object\n",
      " 54  TotRmsAbvGrd   1460 non-null   int64\n",
      " 55  Functional     1460 non-null   object\n",
      " 56  Fireplaces     1460 non-null   int64\n",
      " 57  FireplaceQu    770 non-null    object\n",
      " 58  GarageType     1379 non-null   object\n",
      " 59  GarageYrBlt    1379 non-null   float64\n",
      " 60  GarageFinish   1379 non-null   object\n",
      " 61  GarageCars     1460 non-null   int64\n",
      " 62  GarageArea     1460 non-null   int64\n",
      " 63  GarageQual     1379 non-null   object\n",
      " 64  GarageCond     1379 non-null   object\n",
      " 65  PavedDrive     1460 non-null   object\n",
      " 66  WoodDeckSF     1460 non-null   int64\n",
      " 67  OpenPorchSF    1460 non-null   int64\n",
      " 68  EnclosedPorch  1460 non-null   int64\n",
      " 69  3SsnPorch      1460 non-null   int64\n",
      " 70  ScreenPorch    1460 non-null   int64\n",
      " 71  PoolArea       1460 non-null   int64\n",
      " 72  PoolQC         7 non-null      object\n",
      " 73  Fence          281 non-null    object\n",
      " 74  MiscFeature    54 non-null     object\n",
      " 75  MiscVal        1460 non-null   int64\n",
      " 76  MoSold         1460 non-null   int64\n",
      " 77  YrSold         1460 non-null   int64\n",
      " 78  SaleType       1460 non-null   object\n",
      " 79  SaleCondition  1460 non-null   object\n",
      " 80  SalePrice      1460 non-null   int64\n",
      "dtypes: float64(3), int64(35), object(43)\n",
      "memory usage: 888.7+ KB\n"
     ]
    }
   ],
   "source": [
    "train_df.info()"
   ]
  },
  {
   "cell_type": "markdown",
   "id": "bb8b72bd",
   "metadata": {
    "papermill": {
     "duration": 0.04219,
     "end_time": "2022-02-28T17:40:45.735074",
     "exception": false,
     "start_time": "2022-02-28T17:40:45.692884",
     "status": "completed"
    },
    "tags": []
   },
   "source": [
    "Viewing top 5 rows"
   ]
  },
  {
   "cell_type": "code",
   "execution_count": 5,
   "id": "8fda39e4",
   "metadata": {
    "execution": {
     "iopub.execute_input": "2022-02-28T17:40:45.833108Z",
     "iopub.status.busy": "2022-02-28T17:40:45.832236Z",
     "iopub.status.idle": "2022-02-28T17:40:46.059544Z",
     "shell.execute_reply": "2022-02-28T17:40:46.059936Z",
     "shell.execute_reply.started": "2022-02-28T17:38:28.099468Z"
    },
    "papermill": {
     "duration": 0.281797,
     "end_time": "2022-02-28T17:40:46.060124",
     "exception": false,
     "start_time": "2022-02-28T17:40:45.778327",
     "status": "completed"
    },
    "tags": []
   },
   "outputs": [
    {
     "data": {
      "text/html": [
       "<div>\n",
       "<style scoped>\n",
       "    .dataframe tbody tr th:only-of-type {\n",
       "        vertical-align: middle;\n",
       "    }\n",
       "\n",
       "    .dataframe tbody tr th {\n",
       "        vertical-align: top;\n",
       "    }\n",
       "\n",
       "    .dataframe thead th {\n",
       "        text-align: right;\n",
       "    }\n",
       "</style>\n",
       "<table border=\"1\" class=\"dataframe\">\n",
       "  <thead>\n",
       "    <tr style=\"text-align: right;\">\n",
       "      <th></th>\n",
       "      <th>Id</th>\n",
       "      <th>MSSubClass</th>\n",
       "      <th>MSZoning</th>\n",
       "      <th>LotFrontage</th>\n",
       "      <th>LotArea</th>\n",
       "      <th>Street</th>\n",
       "      <th>Alley</th>\n",
       "      <th>LotShape</th>\n",
       "      <th>LandContour</th>\n",
       "      <th>Utilities</th>\n",
       "      <th>...</th>\n",
       "      <th>PoolArea</th>\n",
       "      <th>PoolQC</th>\n",
       "      <th>Fence</th>\n",
       "      <th>MiscFeature</th>\n",
       "      <th>MiscVal</th>\n",
       "      <th>MoSold</th>\n",
       "      <th>YrSold</th>\n",
       "      <th>SaleType</th>\n",
       "      <th>SaleCondition</th>\n",
       "      <th>SalePrice</th>\n",
       "    </tr>\n",
       "  </thead>\n",
       "  <tbody>\n",
       "    <tr>\n",
       "      <th>0</th>\n",
       "      <td>1</td>\n",
       "      <td>60</td>\n",
       "      <td>RL</td>\n",
       "      <td>65.0</td>\n",
       "      <td>8450</td>\n",
       "      <td>Pave</td>\n",
       "      <td>&lt;NA&gt;</td>\n",
       "      <td>Reg</td>\n",
       "      <td>Lvl</td>\n",
       "      <td>AllPub</td>\n",
       "      <td>...</td>\n",
       "      <td>0</td>\n",
       "      <td>&lt;NA&gt;</td>\n",
       "      <td>&lt;NA&gt;</td>\n",
       "      <td>&lt;NA&gt;</td>\n",
       "      <td>0</td>\n",
       "      <td>2</td>\n",
       "      <td>2008</td>\n",
       "      <td>WD</td>\n",
       "      <td>Normal</td>\n",
       "      <td>208500</td>\n",
       "    </tr>\n",
       "    <tr>\n",
       "      <th>1</th>\n",
       "      <td>2</td>\n",
       "      <td>20</td>\n",
       "      <td>RL</td>\n",
       "      <td>80.0</td>\n",
       "      <td>9600</td>\n",
       "      <td>Pave</td>\n",
       "      <td>&lt;NA&gt;</td>\n",
       "      <td>Reg</td>\n",
       "      <td>Lvl</td>\n",
       "      <td>AllPub</td>\n",
       "      <td>...</td>\n",
       "      <td>0</td>\n",
       "      <td>&lt;NA&gt;</td>\n",
       "      <td>&lt;NA&gt;</td>\n",
       "      <td>&lt;NA&gt;</td>\n",
       "      <td>0</td>\n",
       "      <td>5</td>\n",
       "      <td>2007</td>\n",
       "      <td>WD</td>\n",
       "      <td>Normal</td>\n",
       "      <td>181500</td>\n",
       "    </tr>\n",
       "    <tr>\n",
       "      <th>2</th>\n",
       "      <td>3</td>\n",
       "      <td>60</td>\n",
       "      <td>RL</td>\n",
       "      <td>68.0</td>\n",
       "      <td>11250</td>\n",
       "      <td>Pave</td>\n",
       "      <td>&lt;NA&gt;</td>\n",
       "      <td>IR1</td>\n",
       "      <td>Lvl</td>\n",
       "      <td>AllPub</td>\n",
       "      <td>...</td>\n",
       "      <td>0</td>\n",
       "      <td>&lt;NA&gt;</td>\n",
       "      <td>&lt;NA&gt;</td>\n",
       "      <td>&lt;NA&gt;</td>\n",
       "      <td>0</td>\n",
       "      <td>9</td>\n",
       "      <td>2008</td>\n",
       "      <td>WD</td>\n",
       "      <td>Normal</td>\n",
       "      <td>223500</td>\n",
       "    </tr>\n",
       "    <tr>\n",
       "      <th>3</th>\n",
       "      <td>4</td>\n",
       "      <td>70</td>\n",
       "      <td>RL</td>\n",
       "      <td>60.0</td>\n",
       "      <td>9550</td>\n",
       "      <td>Pave</td>\n",
       "      <td>&lt;NA&gt;</td>\n",
       "      <td>IR1</td>\n",
       "      <td>Lvl</td>\n",
       "      <td>AllPub</td>\n",
       "      <td>...</td>\n",
       "      <td>0</td>\n",
       "      <td>&lt;NA&gt;</td>\n",
       "      <td>&lt;NA&gt;</td>\n",
       "      <td>&lt;NA&gt;</td>\n",
       "      <td>0</td>\n",
       "      <td>2</td>\n",
       "      <td>2006</td>\n",
       "      <td>WD</td>\n",
       "      <td>Abnorml</td>\n",
       "      <td>140000</td>\n",
       "    </tr>\n",
       "    <tr>\n",
       "      <th>4</th>\n",
       "      <td>5</td>\n",
       "      <td>60</td>\n",
       "      <td>RL</td>\n",
       "      <td>84.0</td>\n",
       "      <td>14260</td>\n",
       "      <td>Pave</td>\n",
       "      <td>&lt;NA&gt;</td>\n",
       "      <td>IR1</td>\n",
       "      <td>Lvl</td>\n",
       "      <td>AllPub</td>\n",
       "      <td>...</td>\n",
       "      <td>0</td>\n",
       "      <td>&lt;NA&gt;</td>\n",
       "      <td>&lt;NA&gt;</td>\n",
       "      <td>&lt;NA&gt;</td>\n",
       "      <td>0</td>\n",
       "      <td>12</td>\n",
       "      <td>2008</td>\n",
       "      <td>WD</td>\n",
       "      <td>Normal</td>\n",
       "      <td>250000</td>\n",
       "    </tr>\n",
       "  </tbody>\n",
       "</table>\n",
       "<p>5 rows × 81 columns</p>\n",
       "</div>"
      ],
      "text/plain": [
       "   Id  MSSubClass MSZoning  LotFrontage  LotArea Street Alley LotShape  \\\n",
       "0   1          60       RL         65.0     8450   Pave  <NA>      Reg   \n",
       "1   2          20       RL         80.0     9600   Pave  <NA>      Reg   \n",
       "2   3          60       RL         68.0    11250   Pave  <NA>      IR1   \n",
       "3   4          70       RL         60.0     9550   Pave  <NA>      IR1   \n",
       "4   5          60       RL         84.0    14260   Pave  <NA>      IR1   \n",
       "\n",
       "  LandContour Utilities  ... PoolArea  PoolQC Fence MiscFeature MiscVal  \\\n",
       "0         Lvl    AllPub  ...        0    <NA>  <NA>        <NA>       0   \n",
       "1         Lvl    AllPub  ...        0    <NA>  <NA>        <NA>       0   \n",
       "2         Lvl    AllPub  ...        0    <NA>  <NA>        <NA>       0   \n",
       "3         Lvl    AllPub  ...        0    <NA>  <NA>        <NA>       0   \n",
       "4         Lvl    AllPub  ...        0    <NA>  <NA>        <NA>       0   \n",
       "\n",
       "   MoSold  YrSold  SaleType SaleCondition SalePrice  \n",
       "0       2    2008        WD        Normal    208500  \n",
       "1       5    2007        WD        Normal    181500  \n",
       "2       9    2008        WD        Normal    223500  \n",
       "3       2    2006        WD       Abnorml    140000  \n",
       "4      12    2008        WD        Normal    250000  \n",
       "\n",
       "[5 rows x 81 columns]"
      ]
     },
     "execution_count": 5,
     "metadata": {},
     "output_type": "execute_result"
    }
   ],
   "source": [
    "train_df.head()"
   ]
  },
  {
   "cell_type": "markdown",
   "id": "a57c3836",
   "metadata": {
    "papermill": {
     "duration": 0.04305,
     "end_time": "2022-02-28T17:40:46.146852",
     "exception": false,
     "start_time": "2022-02-28T17:40:46.103802",
     "status": "completed"
    },
    "tags": []
   },
   "source": [
    "Selecting columns with float and integer data types"
   ]
  },
  {
   "cell_type": "code",
   "execution_count": 6,
   "id": "c4fa4c1e",
   "metadata": {
    "execution": {
     "iopub.execute_input": "2022-02-28T17:40:46.241466Z",
     "iopub.status.busy": "2022-02-28T17:40:46.240460Z",
     "iopub.status.idle": "2022-02-28T17:40:46.242402Z",
     "shell.execute_reply": "2022-02-28T17:40:46.242800Z",
     "shell.execute_reply.started": "2022-02-28T17:38:28.317212Z"
    },
    "papermill": {
     "duration": 0.052747,
     "end_time": "2022-02-28T17:40:46.242934",
     "exception": false,
     "start_time": "2022-02-28T17:40:46.190187",
     "status": "completed"
    },
    "tags": []
   },
   "outputs": [],
   "source": [
    "req_dtypes = ['int64', 'float64', 'int32', 'float32']\n",
    "req_columns = [col for col in train_df.columns if train_df[col].dtype in req_dtypes]"
   ]
  },
  {
   "cell_type": "code",
   "execution_count": 7,
   "id": "bad4ebe6",
   "metadata": {
    "execution": {
     "iopub.execute_input": "2022-02-28T17:40:46.335234Z",
     "iopub.status.busy": "2022-02-28T17:40:46.334477Z",
     "iopub.status.idle": "2022-02-28T17:40:46.337025Z",
     "shell.execute_reply": "2022-02-28T17:40:46.336541Z",
     "shell.execute_reply.started": "2022-02-28T17:38:28.325945Z"
    },
    "papermill": {
     "duration": 0.050736,
     "end_time": "2022-02-28T17:40:46.337144",
     "exception": false,
     "start_time": "2022-02-28T17:40:46.286408",
     "status": "completed"
    },
    "tags": []
   },
   "outputs": [],
   "source": [
    "new_train_df = train_df[req_columns]"
   ]
  },
  {
   "cell_type": "code",
   "execution_count": 8,
   "id": "b220ae13",
   "metadata": {
    "execution": {
     "iopub.execute_input": "2022-02-28T17:40:46.429701Z",
     "iopub.status.busy": "2022-02-28T17:40:46.428889Z",
     "iopub.status.idle": "2022-02-28T17:40:46.447195Z",
     "shell.execute_reply": "2022-02-28T17:40:46.447636Z",
     "shell.execute_reply.started": "2022-02-28T17:38:28.337316Z"
    },
    "papermill": {
     "duration": 0.067421,
     "end_time": "2022-02-28T17:40:46.447783",
     "exception": false,
     "start_time": "2022-02-28T17:40:46.380362",
     "status": "completed"
    },
    "tags": []
   },
   "outputs": [
    {
     "name": "stdout",
     "output_type": "stream",
     "text": [
      "<class 'cudf.core.dataframe.DataFrame'>\n",
      "RangeIndex: 1460 entries, 0 to 1459\n",
      "Data columns (total 38 columns):\n",
      " #   Column         Non-Null Count  Dtype\n",
      "---  ------         --------------  -----\n",
      " 0   Id             1460 non-null   int64\n",
      " 1   MSSubClass     1460 non-null   int64\n",
      " 2   LotFrontage    1201 non-null   float64\n",
      " 3   LotArea        1460 non-null   int64\n",
      " 4   OverallQual    1460 non-null   int64\n",
      " 5   OverallCond    1460 non-null   int64\n",
      " 6   YearBuilt      1460 non-null   int64\n",
      " 7   YearRemodAdd   1460 non-null   int64\n",
      " 8   MasVnrArea     1452 non-null   float64\n",
      " 9   BsmtFinSF1     1460 non-null   int64\n",
      " 10  BsmtFinSF2     1460 non-null   int64\n",
      " 11  BsmtUnfSF      1460 non-null   int64\n",
      " 12  TotalBsmtSF    1460 non-null   int64\n",
      " 13  1stFlrSF       1460 non-null   int64\n",
      " 14  2ndFlrSF       1460 non-null   int64\n",
      " 15  LowQualFinSF   1460 non-null   int64\n",
      " 16  GrLivArea      1460 non-null   int64\n",
      " 17  BsmtFullBath   1460 non-null   int64\n",
      " 18  BsmtHalfBath   1460 non-null   int64\n",
      " 19  FullBath       1460 non-null   int64\n",
      " 20  HalfBath       1460 non-null   int64\n",
      " 21  BedroomAbvGr   1460 non-null   int64\n",
      " 22  KitchenAbvGr   1460 non-null   int64\n",
      " 23  TotRmsAbvGrd   1460 non-null   int64\n",
      " 24  Fireplaces     1460 non-null   int64\n",
      " 25  GarageYrBlt    1379 non-null   float64\n",
      " 26  GarageCars     1460 non-null   int64\n",
      " 27  GarageArea     1460 non-null   int64\n",
      " 28  WoodDeckSF     1460 non-null   int64\n",
      " 29  OpenPorchSF    1460 non-null   int64\n",
      " 30  EnclosedPorch  1460 non-null   int64\n",
      " 31  3SsnPorch      1460 non-null   int64\n",
      " 32  ScreenPorch    1460 non-null   int64\n",
      " 33  PoolArea       1460 non-null   int64\n",
      " 34  MiscVal        1460 non-null   int64\n",
      " 35  MoSold         1460 non-null   int64\n",
      " 36  YrSold         1460 non-null   int64\n",
      " 37  SalePrice      1460 non-null   int64\n",
      "dtypes: float64(3), int64(35)\n",
      "memory usage: 434.0 KB\n"
     ]
    }
   ],
   "source": [
    "new_train_df.info()"
   ]
  },
  {
   "cell_type": "markdown",
   "id": "289f085d",
   "metadata": {
    "papermill": {
     "duration": 0.045543,
     "end_time": "2022-02-28T17:40:46.537454",
     "exception": false,
     "start_time": "2022-02-28T17:40:46.491911",
     "status": "completed"
    },
    "tags": []
   },
   "source": [
    "Checking for null values in each column"
   ]
  },
  {
   "cell_type": "code",
   "execution_count": 9,
   "id": "5b27dac5",
   "metadata": {
    "execution": {
     "iopub.execute_input": "2022-02-28T17:40:46.629666Z",
     "iopub.status.busy": "2022-02-28T17:40:46.629131Z",
     "iopub.status.idle": "2022-02-28T17:40:46.650396Z",
     "shell.execute_reply": "2022-02-28T17:40:46.649922Z",
     "shell.execute_reply.started": "2022-02-28T17:38:28.362123Z"
    },
    "papermill": {
     "duration": 0.069598,
     "end_time": "2022-02-28T17:40:46.650531",
     "exception": false,
     "start_time": "2022-02-28T17:40:46.580933",
     "status": "completed"
    },
    "tags": []
   },
   "outputs": [
    {
     "data": {
      "text/plain": [
       "Id                 0\n",
       "MSSubClass         0\n",
       "LotFrontage      259\n",
       "LotArea            0\n",
       "OverallQual        0\n",
       "OverallCond        0\n",
       "YearBuilt          0\n",
       "YearRemodAdd       0\n",
       "MasVnrArea         8\n",
       "BsmtFinSF1         0\n",
       "BsmtFinSF2         0\n",
       "BsmtUnfSF          0\n",
       "TotalBsmtSF        0\n",
       "1stFlrSF           0\n",
       "2ndFlrSF           0\n",
       "LowQualFinSF       0\n",
       "GrLivArea          0\n",
       "BsmtFullBath       0\n",
       "BsmtHalfBath       0\n",
       "FullBath           0\n",
       "HalfBath           0\n",
       "BedroomAbvGr       0\n",
       "KitchenAbvGr       0\n",
       "TotRmsAbvGrd       0\n",
       "Fireplaces         0\n",
       "GarageYrBlt       81\n",
       "GarageCars         0\n",
       "GarageArea         0\n",
       "WoodDeckSF         0\n",
       "OpenPorchSF        0\n",
       "EnclosedPorch      0\n",
       "3SsnPorch          0\n",
       "ScreenPorch        0\n",
       "PoolArea           0\n",
       "MiscVal            0\n",
       "MoSold             0\n",
       "YrSold             0\n",
       "SalePrice          0\n",
       "dtype: uint64"
      ]
     },
     "execution_count": 9,
     "metadata": {},
     "output_type": "execute_result"
    }
   ],
   "source": [
    "new_train_df.isnull().sum()"
   ]
  },
  {
   "cell_type": "markdown",
   "id": "15e5bec6",
   "metadata": {
    "papermill": {
     "duration": 0.043777,
     "end_time": "2022-02-28T17:40:46.739193",
     "exception": false,
     "start_time": "2022-02-28T17:40:46.695416",
     "status": "completed"
    },
    "tags": []
   },
   "source": [
    "Filling Null values with median of that column"
   ]
  },
  {
   "cell_type": "code",
   "execution_count": 10,
   "id": "5efbaf55",
   "metadata": {
    "execution": {
     "iopub.execute_input": "2022-02-28T17:40:46.840906Z",
     "iopub.status.busy": "2022-02-28T17:40:46.840294Z",
     "iopub.status.idle": "2022-02-28T17:40:49.033171Z",
     "shell.execute_reply": "2022-02-28T17:40:49.033610Z",
     "shell.execute_reply.started": "2022-02-28T17:38:28.385660Z"
    },
    "papermill": {
     "duration": 2.241278,
     "end_time": "2022-02-28T17:40:49.033769",
     "exception": false,
     "start_time": "2022-02-28T17:40:46.792491",
     "status": "completed"
    },
    "tags": []
   },
   "outputs": [],
   "source": [
    "new_train_df.fillna(new_train_df.median(), inplace=True)"
   ]
  },
  {
   "cell_type": "code",
   "execution_count": 11,
   "id": "ecd4e87c",
   "metadata": {
    "execution": {
     "iopub.execute_input": "2022-02-28T17:40:49.126964Z",
     "iopub.status.busy": "2022-02-28T17:40:49.126444Z",
     "iopub.status.idle": "2022-02-28T17:40:49.143853Z",
     "shell.execute_reply": "2022-02-28T17:40:49.144343Z",
     "shell.execute_reply.started": "2022-02-28T17:38:29.133189Z"
    },
    "papermill": {
     "duration": 0.066314,
     "end_time": "2022-02-28T17:40:49.144497",
     "exception": false,
     "start_time": "2022-02-28T17:40:49.078183",
     "status": "completed"
    },
    "tags": []
   },
   "outputs": [
    {
     "data": {
      "text/plain": [
       "Id               0\n",
       "MSSubClass       0\n",
       "LotFrontage      0\n",
       "LotArea          0\n",
       "OverallQual      0\n",
       "OverallCond      0\n",
       "YearBuilt        0\n",
       "YearRemodAdd     0\n",
       "MasVnrArea       0\n",
       "BsmtFinSF1       0\n",
       "BsmtFinSF2       0\n",
       "BsmtUnfSF        0\n",
       "TotalBsmtSF      0\n",
       "1stFlrSF         0\n",
       "2ndFlrSF         0\n",
       "LowQualFinSF     0\n",
       "GrLivArea        0\n",
       "BsmtFullBath     0\n",
       "BsmtHalfBath     0\n",
       "FullBath         0\n",
       "HalfBath         0\n",
       "BedroomAbvGr     0\n",
       "KitchenAbvGr     0\n",
       "TotRmsAbvGrd     0\n",
       "Fireplaces       0\n",
       "GarageYrBlt      0\n",
       "GarageCars       0\n",
       "GarageArea       0\n",
       "WoodDeckSF       0\n",
       "OpenPorchSF      0\n",
       "EnclosedPorch    0\n",
       "3SsnPorch        0\n",
       "ScreenPorch      0\n",
       "PoolArea         0\n",
       "MiscVal          0\n",
       "MoSold           0\n",
       "YrSold           0\n",
       "SalePrice        0\n",
       "dtype: uint64"
      ]
     },
     "execution_count": 11,
     "metadata": {},
     "output_type": "execute_result"
    }
   ],
   "source": [
    "new_train_df.isnull().sum()"
   ]
  },
  {
   "cell_type": "code",
   "execution_count": 12,
   "id": "8eb4e0ad",
   "metadata": {
    "execution": {
     "iopub.execute_input": "2022-02-28T17:40:49.242086Z",
     "iopub.status.busy": "2022-02-28T17:40:49.241249Z",
     "iopub.status.idle": "2022-02-28T17:40:49.243021Z",
     "shell.execute_reply": "2022-02-28T17:40:49.243481Z",
     "shell.execute_reply.started": "2022-02-28T17:38:29.157590Z"
    },
    "papermill": {
     "duration": 0.054698,
     "end_time": "2022-02-28T17:40:49.243614",
     "exception": false,
     "start_time": "2022-02-28T17:40:49.188916",
     "status": "completed"
    },
    "tags": []
   },
   "outputs": [],
   "source": [
    "X, Y = new_train_df.iloc[:, 1:-1], new_train_df.iloc[:, -1]"
   ]
  },
  {
   "cell_type": "code",
   "execution_count": 13,
   "id": "f9c706f8",
   "metadata": {
    "execution": {
     "iopub.execute_input": "2022-02-28T17:40:49.337825Z",
     "iopub.status.busy": "2022-02-28T17:40:49.337262Z",
     "iopub.status.idle": "2022-02-28T17:40:49.339869Z",
     "shell.execute_reply": "2022-02-28T17:40:49.340296Z",
     "shell.execute_reply.started": "2022-02-28T17:38:29.170227Z"
    },
    "papermill": {
     "duration": 0.052019,
     "end_time": "2022-02-28T17:40:49.340429",
     "exception": false,
     "start_time": "2022-02-28T17:40:49.288410",
     "status": "completed"
    },
    "tags": []
   },
   "outputs": [
    {
     "data": {
      "text/plain": [
       "(1460, 36)"
      ]
     },
     "execution_count": 13,
     "metadata": {},
     "output_type": "execute_result"
    }
   ],
   "source": [
    "X.shape"
   ]
  },
  {
   "cell_type": "code",
   "execution_count": 14,
   "id": "ece2e2fe",
   "metadata": {
    "execution": {
     "iopub.execute_input": "2022-02-28T17:40:49.438274Z",
     "iopub.status.busy": "2022-02-28T17:40:49.437669Z",
     "iopub.status.idle": "2022-02-28T17:40:49.440385Z",
     "shell.execute_reply": "2022-02-28T17:40:49.440787Z",
     "shell.execute_reply.started": "2022-02-28T17:38:29.179735Z"
    },
    "papermill": {
     "duration": 0.053539,
     "end_time": "2022-02-28T17:40:49.440924",
     "exception": false,
     "start_time": "2022-02-28T17:40:49.387385",
     "status": "completed"
    },
    "tags": []
   },
   "outputs": [
    {
     "data": {
      "text/plain": [
       "(1460,)"
      ]
     },
     "execution_count": 14,
     "metadata": {},
     "output_type": "execute_result"
    }
   ],
   "source": [
    "Y.shape"
   ]
  },
  {
   "cell_type": "markdown",
   "id": "259618b1",
   "metadata": {
    "papermill": {
     "duration": 0.045383,
     "end_time": "2022-02-28T17:40:49.532735",
     "exception": false,
     "start_time": "2022-02-28T17:40:49.487352",
     "status": "completed"
    },
    "tags": []
   },
   "source": [
    "Checking for moderate to high skewness"
   ]
  },
  {
   "cell_type": "code",
   "execution_count": 15,
   "id": "740d1e2a",
   "metadata": {
    "execution": {
     "iopub.execute_input": "2022-02-28T17:40:49.628899Z",
     "iopub.status.busy": "2022-02-28T17:40:49.628323Z",
     "iopub.status.idle": "2022-02-28T17:40:49.687776Z",
     "shell.execute_reply": "2022-02-28T17:40:49.687303Z",
     "shell.execute_reply.started": "2022-02-28T17:38:29.190146Z"
    },
    "papermill": {
     "duration": 0.109307,
     "end_time": "2022-02-28T17:40:49.687912",
     "exception": false,
     "start_time": "2022-02-28T17:40:49.578605",
     "status": "completed"
    },
    "tags": []
   },
   "outputs": [],
   "source": [
    "req_features = [col for col in X.columns if abs(X[col].skew())>0.5]"
   ]
  },
  {
   "cell_type": "code",
   "execution_count": 16,
   "id": "30e3661b",
   "metadata": {
    "execution": {
     "iopub.execute_input": "2022-02-28T17:40:49.805611Z",
     "iopub.status.busy": "2022-02-28T17:40:49.804589Z",
     "iopub.status.idle": "2022-02-28T17:40:49.808202Z",
     "shell.execute_reply": "2022-02-28T17:40:49.810104Z",
     "shell.execute_reply.started": "2022-02-28T17:38:29.252093Z"
    },
    "papermill": {
     "duration": 0.077095,
     "end_time": "2022-02-28T17:40:49.810315",
     "exception": false,
     "start_time": "2022-02-28T17:40:49.733220",
     "status": "completed"
    },
    "tags": []
   },
   "outputs": [
    {
     "data": {
      "text/plain": [
       "['MSSubClass',\n",
       " 'LotFrontage',\n",
       " 'LotArea',\n",
       " 'OverallCond',\n",
       " 'YearBuilt',\n",
       " 'YearRemodAdd',\n",
       " 'MasVnrArea',\n",
       " 'BsmtFinSF1',\n",
       " 'BsmtFinSF2',\n",
       " 'BsmtUnfSF',\n",
       " 'TotalBsmtSF',\n",
       " '1stFlrSF',\n",
       " '2ndFlrSF',\n",
       " 'LowQualFinSF',\n",
       " 'GrLivArea',\n",
       " 'BsmtFullBath',\n",
       " 'BsmtHalfBath',\n",
       " 'HalfBath',\n",
       " 'KitchenAbvGr',\n",
       " 'TotRmsAbvGrd',\n",
       " 'Fireplaces',\n",
       " 'GarageYrBlt',\n",
       " 'WoodDeckSF',\n",
       " 'OpenPorchSF',\n",
       " 'EnclosedPorch',\n",
       " '3SsnPorch',\n",
       " 'ScreenPorch',\n",
       " 'PoolArea',\n",
       " 'MiscVal']"
      ]
     },
     "execution_count": 16,
     "metadata": {},
     "output_type": "execute_result"
    }
   ],
   "source": [
    "req_features"
   ]
  },
  {
   "cell_type": "markdown",
   "id": "f37b4f44",
   "metadata": {
    "papermill": {
     "duration": 0.075576,
     "end_time": "2022-02-28T17:40:49.978600",
     "exception": false,
     "start_time": "2022-02-28T17:40:49.903024",
     "status": "completed"
    },
    "tags": []
   },
   "source": [
    "Applying log transformation to fix skewness"
   ]
  },
  {
   "cell_type": "code",
   "execution_count": 17,
   "id": "87292ac7",
   "metadata": {
    "execution": {
     "iopub.execute_input": "2022-02-28T17:40:50.133285Z",
     "iopub.status.busy": "2022-02-28T17:40:50.132456Z",
     "iopub.status.idle": "2022-02-28T17:40:50.742837Z",
     "shell.execute_reply": "2022-02-28T17:40:50.742037Z",
     "shell.execute_reply.started": "2022-02-28T17:38:29.259646Z"
    },
    "papermill": {
     "duration": 0.689894,
     "end_time": "2022-02-28T17:40:50.742966",
     "exception": false,
     "start_time": "2022-02-28T17:40:50.053072",
     "status": "completed"
    },
    "tags": []
   },
   "outputs": [],
   "source": [
    "for feat in req_features:\n",
    "    X[feat] = cupy.log1p(X[feat])"
   ]
  },
  {
   "cell_type": "markdown",
   "id": "a1fb511d",
   "metadata": {
    "papermill": {
     "duration": 0.045992,
     "end_time": "2022-02-28T17:40:50.835284",
     "exception": false,
     "start_time": "2022-02-28T17:40:50.789292",
     "status": "completed"
    },
    "tags": []
   },
   "source": [
    "Standardizing data"
   ]
  },
  {
   "cell_type": "code",
   "execution_count": 18,
   "id": "d8a8ce28",
   "metadata": {
    "execution": {
     "iopub.execute_input": "2022-02-28T17:40:50.934413Z",
     "iopub.status.busy": "2022-02-28T17:40:50.933550Z",
     "iopub.status.idle": "2022-02-28T17:40:58.560614Z",
     "shell.execute_reply": "2022-02-28T17:40:58.560136Z",
     "shell.execute_reply.started": "2022-02-28T17:38:29.284152Z"
    },
    "papermill": {
     "duration": 7.679493,
     "end_time": "2022-02-28T17:40:58.560745",
     "exception": false,
     "start_time": "2022-02-28T17:40:50.881252",
     "status": "completed"
    },
    "tags": []
   },
   "outputs": [],
   "source": [
    "std_scaler = cuml.preprocessing.StandardScaler()\n",
    "\n",
    "X = std_scaler.fit_transform(X)"
   ]
  },
  {
   "cell_type": "markdown",
   "id": "a67dcf25",
   "metadata": {
    "papermill": {
     "duration": 0.044816,
     "end_time": "2022-02-28T17:40:58.650569",
     "exception": false,
     "start_time": "2022-02-28T17:40:58.605753",
     "status": "completed"
    },
    "tags": []
   },
   "source": [
    "Splitting dataset"
   ]
  },
  {
   "cell_type": "code",
   "execution_count": 19,
   "id": "5ab8691b",
   "metadata": {
    "execution": {
     "iopub.execute_input": "2022-02-28T17:40:58.745869Z",
     "iopub.status.busy": "2022-02-28T17:40:58.745075Z",
     "iopub.status.idle": "2022-02-28T17:40:59.333712Z",
     "shell.execute_reply": "2022-02-28T17:40:59.333226Z",
     "shell.execute_reply.started": "2022-02-28T17:38:29.307060Z"
    },
    "papermill": {
     "duration": 0.638011,
     "end_time": "2022-02-28T17:40:59.333850",
     "exception": false,
     "start_time": "2022-02-28T17:40:58.695839",
     "status": "completed"
    },
    "tags": []
   },
   "outputs": [],
   "source": [
    "from cuml.preprocessing import train_test_split\n",
    "X_train, X_test, y_train, y_test = train_test_split(X, Y, test_size=0.2, random_state=3)"
   ]
  },
  {
   "cell_type": "code",
   "execution_count": 20,
   "id": "81b4e7c3",
   "metadata": {
    "execution": {
     "iopub.execute_input": "2022-02-28T17:40:59.430802Z",
     "iopub.status.busy": "2022-02-28T17:40:59.429901Z",
     "iopub.status.idle": "2022-02-28T17:40:59.431710Z",
     "shell.execute_reply": "2022-02-28T17:40:59.432132Z",
     "shell.execute_reply.started": "2022-02-28T17:38:29.331240Z"
    },
    "papermill": {
     "duration": 0.053188,
     "end_time": "2022-02-28T17:40:59.432268",
     "exception": false,
     "start_time": "2022-02-28T17:40:59.379080",
     "status": "completed"
    },
    "tags": []
   },
   "outputs": [],
   "source": [
    "from cuml.metrics.regression import r2_score, mean_absolute_error, mean_squared_error\n",
    "\n",
    "def get_metrics(model, X_test, y_test):\n",
    "    y_pred = model.predict(X_test)\n",
    "    y_t = y_test.astype('float64')\n",
    "    r2, mae, mse = r2_score(y_t, y_pred), mean_absolute_error(y_t, y_pred), mean_squared_error(y_t, y_pred)\n",
    "    print('R2:', r2)\n",
    "    print('MAE:', mae)    \n",
    "    print('MSE:', mse)\n",
    "    return [r2, mae, mse]"
   ]
  },
  {
   "cell_type": "markdown",
   "id": "3c14c581",
   "metadata": {
    "papermill": {
     "duration": 0.044302,
     "end_time": "2022-02-28T17:40:59.521497",
     "exception": false,
     "start_time": "2022-02-28T17:40:59.477195",
     "status": "completed"
    },
    "tags": []
   },
   "source": [
    "Applying svd, eig, qr, svd-qr, svd-jacobi algorithms"
   ]
  },
  {
   "cell_type": "code",
   "execution_count": 21,
   "id": "abac2bd3",
   "metadata": {
    "execution": {
     "iopub.execute_input": "2022-02-28T17:40:59.619477Z",
     "iopub.status.busy": "2022-02-28T17:40:59.618597Z",
     "iopub.status.idle": "2022-02-28T17:41:02.912203Z",
     "shell.execute_reply": "2022-02-28T17:41:02.913216Z",
     "shell.execute_reply.started": "2022-02-28T17:38:29.339055Z"
    },
    "papermill": {
     "duration": 3.346294,
     "end_time": "2022-02-28T17:41:02.913413",
     "exception": false,
     "start_time": "2022-02-28T17:40:59.567119",
     "status": "completed"
    },
    "tags": []
   },
   "outputs": [
    {
     "name": "stdout",
     "output_type": "stream",
     "text": [
      "R2: 0.6706778228206118\n",
      "MAE: 22925.599208738324\n",
      "MSE: 1852758207.1094193\n",
      "R2: 0.6706778228206123\n",
      "MAE: 22925.59920873826\n",
      "MSE: 1852758207.109417\n",
      "R2: 0.6706778228206121\n",
      "MAE: 22925.599208738306\n",
      "MSE: 1852758207.1094184\n",
      "R2: 0.6706778228206114\n",
      "MAE: 22925.599208738335\n",
      "MSE: 1852758207.1094224\n",
      "R2: 0.6706778228206118\n",
      "MAE: 22925.599208738324\n",
      "MSE: 1852758207.1094193\n"
     ]
    }
   ],
   "source": [
    "from cuml.linear_model import LinearRegression\n",
    "\n",
    "algorithms = [\"svd\", \"eig\", 'qr', \"svd-qr\", \"svd-jacobi\"]\n",
    "\n",
    "models = []\n",
    "\n",
    "metrics = []\n",
    "\n",
    "for algo in algorithms:\n",
    "    model = LinearRegression(algorithm=algo)\n",
    "    model.fit(X_train, y_train)\n",
    "    models.append(model)\n",
    "    metrics.append(get_metrics(model, X_test, y_test))\n"
   ]
  },
  {
   "cell_type": "code",
   "execution_count": 22,
   "id": "65c6d7f0",
   "metadata": {
    "execution": {
     "iopub.execute_input": "2022-02-28T17:41:03.009017Z",
     "iopub.status.busy": "2022-02-28T17:41:03.008447Z",
     "iopub.status.idle": "2022-02-28T17:41:03.014831Z",
     "shell.execute_reply": "2022-02-28T17:41:03.014373Z",
     "shell.execute_reply.started": "2022-02-28T17:38:29.444867Z"
    },
    "papermill": {
     "duration": 0.055884,
     "end_time": "2022-02-28T17:41:03.014954",
     "exception": false,
     "start_time": "2022-02-28T17:41:02.959070",
     "status": "completed"
    },
    "tags": []
   },
   "outputs": [],
   "source": [
    "comp_table = cudf.DataFrame(metrics, columns=['R2', 'MAE', 'MSE'], index = algorithms)"
   ]
  },
  {
   "cell_type": "code",
   "execution_count": 23,
   "id": "4dd35043",
   "metadata": {
    "execution": {
     "iopub.execute_input": "2022-02-28T17:41:03.111148Z",
     "iopub.status.busy": "2022-02-28T17:41:03.110329Z",
     "iopub.status.idle": "2022-02-28T17:41:03.123682Z",
     "shell.execute_reply": "2022-02-28T17:41:03.124160Z",
     "shell.execute_reply.started": "2022-02-28T17:38:29.454005Z"
    },
    "papermill": {
     "duration": 0.064243,
     "end_time": "2022-02-28T17:41:03.124300",
     "exception": false,
     "start_time": "2022-02-28T17:41:03.060057",
     "status": "completed"
    },
    "tags": []
   },
   "outputs": [
    {
     "data": {
      "text/html": [
       "<div>\n",
       "<style scoped>\n",
       "    .dataframe tbody tr th:only-of-type {\n",
       "        vertical-align: middle;\n",
       "    }\n",
       "\n",
       "    .dataframe tbody tr th {\n",
       "        vertical-align: top;\n",
       "    }\n",
       "\n",
       "    .dataframe thead th {\n",
       "        text-align: right;\n",
       "    }\n",
       "</style>\n",
       "<table border=\"1\" class=\"dataframe\">\n",
       "  <thead>\n",
       "    <tr style=\"text-align: right;\">\n",
       "      <th></th>\n",
       "      <th>R2</th>\n",
       "      <th>MAE</th>\n",
       "      <th>MSE</th>\n",
       "    </tr>\n",
       "  </thead>\n",
       "  <tbody>\n",
       "    <tr>\n",
       "      <th>svd</th>\n",
       "      <td>0.670678</td>\n",
       "      <td>22925.599209</td>\n",
       "      <td>1.852758e+09</td>\n",
       "    </tr>\n",
       "    <tr>\n",
       "      <th>eig</th>\n",
       "      <td>0.670678</td>\n",
       "      <td>22925.599209</td>\n",
       "      <td>1.852758e+09</td>\n",
       "    </tr>\n",
       "    <tr>\n",
       "      <th>qr</th>\n",
       "      <td>0.670678</td>\n",
       "      <td>22925.599209</td>\n",
       "      <td>1.852758e+09</td>\n",
       "    </tr>\n",
       "    <tr>\n",
       "      <th>svd-qr</th>\n",
       "      <td>0.670678</td>\n",
       "      <td>22925.599209</td>\n",
       "      <td>1.852758e+09</td>\n",
       "    </tr>\n",
       "    <tr>\n",
       "      <th>svd-jacobi</th>\n",
       "      <td>0.670678</td>\n",
       "      <td>22925.599209</td>\n",
       "      <td>1.852758e+09</td>\n",
       "    </tr>\n",
       "  </tbody>\n",
       "</table>\n",
       "</div>"
      ],
      "text/plain": [
       "                  R2           MAE           MSE\n",
       "svd         0.670678  22925.599209  1.852758e+09\n",
       "eig         0.670678  22925.599209  1.852758e+09\n",
       "qr          0.670678  22925.599209  1.852758e+09\n",
       "svd-qr      0.670678  22925.599209  1.852758e+09\n",
       "svd-jacobi  0.670678  22925.599209  1.852758e+09"
      ]
     },
     "execution_count": 23,
     "metadata": {},
     "output_type": "execute_result"
    }
   ],
   "source": [
    "comp_table"
   ]
  },
  {
   "cell_type": "markdown",
   "id": "87e4e628",
   "metadata": {
    "papermill": {
     "duration": 0.045973,
     "end_time": "2022-02-28T17:41:03.215679",
     "exception": false,
     "start_time": "2022-02-28T17:41:03.169706",
     "status": "completed"
    },
    "tags": []
   },
   "source": [
    "Applying PCA to increase R2 score"
   ]
  },
  {
   "cell_type": "code",
   "execution_count": 24,
   "id": "af426c31",
   "metadata": {
    "execution": {
     "iopub.execute_input": "2022-02-28T17:41:03.315115Z",
     "iopub.status.busy": "2022-02-28T17:41:03.314265Z",
     "iopub.status.idle": "2022-02-28T17:41:03.578333Z",
     "shell.execute_reply": "2022-02-28T17:41:03.578871Z",
     "shell.execute_reply.started": "2022-02-28T17:38:29.474242Z"
    },
    "papermill": {
     "duration": 0.315718,
     "end_time": "2022-02-28T17:41:03.579058",
     "exception": false,
     "start_time": "2022-02-28T17:41:03.263340",
     "status": "completed"
    },
    "tags": []
   },
   "outputs": [
    {
     "data": {
      "text/plain": [
       "(1460, 5)"
      ]
     },
     "execution_count": 24,
     "metadata": {},
     "output_type": "execute_result"
    }
   ],
   "source": [
    "from cuml.decomposition import PCA\n",
    "\n",
    "pca = PCA(n_components=5)\n",
    "\n",
    "X_pca = pca.fit_transform(X)\n",
    "\n",
    "X_pca.shape"
   ]
  },
  {
   "cell_type": "code",
   "execution_count": 25,
   "id": "0d13d205",
   "metadata": {
    "execution": {
     "iopub.execute_input": "2022-02-28T17:41:03.678676Z",
     "iopub.status.busy": "2022-02-28T17:41:03.677868Z",
     "iopub.status.idle": "2022-02-28T17:41:03.687901Z",
     "shell.execute_reply": "2022-02-28T17:41:03.687473Z",
     "shell.execute_reply.started": "2022-02-28T17:38:29.495474Z"
    },
    "papermill": {
     "duration": 0.062649,
     "end_time": "2022-02-28T17:41:03.688038",
     "exception": false,
     "start_time": "2022-02-28T17:41:03.625389",
     "status": "completed"
    },
    "tags": []
   },
   "outputs": [],
   "source": [
    "X_pca = std_scaler.fit_transform(X_pca)"
   ]
  },
  {
   "cell_type": "code",
   "execution_count": 26,
   "id": "3333479a",
   "metadata": {
    "execution": {
     "iopub.execute_input": "2022-02-28T17:41:03.786122Z",
     "iopub.status.busy": "2022-02-28T17:41:03.785337Z",
     "iopub.status.idle": "2022-02-28T17:41:03.798033Z",
     "shell.execute_reply": "2022-02-28T17:41:03.798410Z",
     "shell.execute_reply.started": "2022-02-28T17:38:29.511538Z"
    },
    "papermill": {
     "duration": 0.063826,
     "end_time": "2022-02-28T17:41:03.798546",
     "exception": false,
     "start_time": "2022-02-28T17:41:03.734720",
     "status": "completed"
    },
    "tags": []
   },
   "outputs": [],
   "source": [
    "X_train, X_test, y_train, y_test = train_test_split(X_pca, Y, test_size=0.3, random_state=3)"
   ]
  },
  {
   "cell_type": "markdown",
   "id": "27f7be7a",
   "metadata": {
    "papermill": {
     "duration": 0.045789,
     "end_time": "2022-02-28T17:41:03.890365",
     "exception": false,
     "start_time": "2022-02-28T17:41:03.844576",
     "status": "completed"
    },
    "tags": []
   },
   "source": [
    "Applying ridge regression"
   ]
  },
  {
   "cell_type": "code",
   "execution_count": 27,
   "id": "6c887b61",
   "metadata": {
    "execution": {
     "iopub.execute_input": "2022-02-28T17:41:03.988281Z",
     "iopub.status.busy": "2022-02-28T17:41:03.987445Z",
     "iopub.status.idle": "2022-02-28T17:41:04.013732Z",
     "shell.execute_reply": "2022-02-28T17:41:04.013303Z",
     "shell.execute_reply.started": "2022-02-28T17:38:29.529515Z"
    },
    "papermill": {
     "duration": 0.077781,
     "end_time": "2022-02-28T17:41:04.013854",
     "exception": false,
     "start_time": "2022-02-28T17:41:03.936073",
     "status": "completed"
    },
    "tags": []
   },
   "outputs": [
    {
     "name": "stdout",
     "output_type": "stream",
     "text": [
      "R2: 0.678359658233703\n",
      "MAE: 27178.126053350432\n",
      "MSE: 1691102059.8261976\n",
      "R2: 0.6783596582337033\n",
      "MAE: 27178.126053350417\n",
      "MSE: 1691102059.826197\n"
     ]
    }
   ],
   "source": [
    "from cuml.linear_model import Ridge\n",
    "\n",
    "algos = [\"svd\", \"eig\"]\n",
    "\n",
    "pca_nl_models = []\n",
    "\n",
    "pca_nl_metrics = []\n",
    "\n",
    "for algo in algos:\n",
    "    model = Ridge(alpha=1, solver=algo)\n",
    "    model.fit(X_train, y_train)\n",
    "    pca_nl_models.append(model)\n",
    "    pca_nl_metrics.append(get_metrics(model, X_test, y_test))"
   ]
  },
  {
   "cell_type": "code",
   "execution_count": 28,
   "id": "49d9dbbf",
   "metadata": {
    "execution": {
     "iopub.execute_input": "2022-02-28T17:41:04.112653Z",
     "iopub.status.busy": "2022-02-28T17:41:04.111816Z",
     "iopub.status.idle": "2022-02-28T17:41:04.127848Z",
     "shell.execute_reply": "2022-02-28T17:41:04.128287Z",
     "shell.execute_reply.started": "2022-02-28T17:38:29.561027Z"
    },
    "papermill": {
     "duration": 0.067688,
     "end_time": "2022-02-28T17:41:04.128432",
     "exception": false,
     "start_time": "2022-02-28T17:41:04.060744",
     "status": "completed"
    },
    "tags": []
   },
   "outputs": [
    {
     "data": {
      "text/html": [
       "<div>\n",
       "<style scoped>\n",
       "    .dataframe tbody tr th:only-of-type {\n",
       "        vertical-align: middle;\n",
       "    }\n",
       "\n",
       "    .dataframe tbody tr th {\n",
       "        vertical-align: top;\n",
       "    }\n",
       "\n",
       "    .dataframe thead th {\n",
       "        text-align: right;\n",
       "    }\n",
       "</style>\n",
       "<table border=\"1\" class=\"dataframe\">\n",
       "  <thead>\n",
       "    <tr style=\"text-align: right;\">\n",
       "      <th></th>\n",
       "      <th>R2</th>\n",
       "      <th>MAE</th>\n",
       "      <th>MSE</th>\n",
       "    </tr>\n",
       "  </thead>\n",
       "  <tbody>\n",
       "    <tr>\n",
       "      <th>ridge_svd</th>\n",
       "      <td>0.67836</td>\n",
       "      <td>27178.126053</td>\n",
       "      <td>1.691102e+09</td>\n",
       "    </tr>\n",
       "    <tr>\n",
       "      <th>ridge_eig</th>\n",
       "      <td>0.67836</td>\n",
       "      <td>27178.126053</td>\n",
       "      <td>1.691102e+09</td>\n",
       "    </tr>\n",
       "  </tbody>\n",
       "</table>\n",
       "</div>"
      ],
      "text/plain": [
       "                R2           MAE           MSE\n",
       "ridge_svd  0.67836  27178.126053  1.691102e+09\n",
       "ridge_eig  0.67836  27178.126053  1.691102e+09"
      ]
     },
     "execution_count": 28,
     "metadata": {},
     "output_type": "execute_result"
    }
   ],
   "source": [
    "ridge_stats = cudf.DataFrame(pca_nl_metrics, columns=['R2', 'MAE', 'MSE'], index=['ridge_svd', 'ridge_eig'])\n",
    "ridge_stats"
   ]
  },
  {
   "cell_type": "markdown",
   "id": "75609c80",
   "metadata": {
    "papermill": {
     "duration": 0.047109,
     "end_time": "2022-02-28T17:41:04.222554",
     "exception": false,
     "start_time": "2022-02-28T17:41:04.175445",
     "status": "completed"
    },
    "tags": []
   },
   "source": [
    "Applying same preprocessing steps on test data"
   ]
  },
  {
   "cell_type": "code",
   "execution_count": 29,
   "id": "71ef94ec",
   "metadata": {
    "execution": {
     "iopub.execute_input": "2022-02-28T17:41:04.323306Z",
     "iopub.status.busy": "2022-02-28T17:41:04.322539Z",
     "iopub.status.idle": "2022-02-28T17:41:04.364723Z",
     "shell.execute_reply": "2022-02-28T17:41:04.364212Z",
     "shell.execute_reply.started": "2022-02-28T17:38:29.584100Z"
    },
    "papermill": {
     "duration": 0.093247,
     "end_time": "2022-02-28T17:41:04.364851",
     "exception": false,
     "start_time": "2022-02-28T17:41:04.271604",
     "status": "completed"
    },
    "tags": []
   },
   "outputs": [],
   "source": [
    "t_data = cudf.read_csv(path + 'test.csv')"
   ]
  },
  {
   "cell_type": "code",
   "execution_count": 30,
   "id": "ea5547f1",
   "metadata": {
    "execution": {
     "iopub.execute_input": "2022-02-28T17:41:04.463723Z",
     "iopub.status.busy": "2022-02-28T17:41:04.462897Z",
     "iopub.status.idle": "2022-02-28T17:41:04.464678Z",
     "shell.execute_reply": "2022-02-28T17:41:04.465127Z",
     "shell.execute_reply.started": "2022-02-28T17:38:29.622111Z"
    },
    "papermill": {
     "duration": 0.053265,
     "end_time": "2022-02-28T17:41:04.465262",
     "exception": false,
     "start_time": "2022-02-28T17:41:04.411997",
     "status": "completed"
    },
    "tags": []
   },
   "outputs": [],
   "source": [
    "req_columns.remove('SalePrice')"
   ]
  },
  {
   "cell_type": "code",
   "execution_count": 31,
   "id": "76a2ca43",
   "metadata": {
    "execution": {
     "iopub.execute_input": "2022-02-28T17:41:04.567722Z",
     "iopub.status.busy": "2022-02-28T17:41:04.566907Z",
     "iopub.status.idle": "2022-02-28T17:41:04.571616Z",
     "shell.execute_reply": "2022-02-28T17:41:04.572090Z",
     "shell.execute_reply.started": "2022-02-28T17:38:29.813990Z"
    },
    "papermill": {
     "duration": 0.060137,
     "end_time": "2022-02-28T17:41:04.572232",
     "exception": false,
     "start_time": "2022-02-28T17:41:04.512095",
     "status": "completed"
    },
    "tags": []
   },
   "outputs": [],
   "source": [
    "data = t_data[req_columns].iloc[:, 1:]"
   ]
  },
  {
   "cell_type": "code",
   "execution_count": 32,
   "id": "55c626ca",
   "metadata": {
    "execution": {
     "iopub.execute_input": "2022-02-28T17:41:04.671035Z",
     "iopub.status.busy": "2022-02-28T17:41:04.670225Z",
     "iopub.status.idle": "2022-02-28T17:41:04.689484Z",
     "shell.execute_reply": "2022-02-28T17:41:04.689873Z",
     "shell.execute_reply.started": "2022-02-28T17:38:30.023453Z"
    },
    "papermill": {
     "duration": 0.070725,
     "end_time": "2022-02-28T17:41:04.690036",
     "exception": false,
     "start_time": "2022-02-28T17:41:04.619311",
     "status": "completed"
    },
    "tags": []
   },
   "outputs": [
    {
     "data": {
      "text/plain": [
       "MSSubClass         0\n",
       "LotFrontage      227\n",
       "LotArea            0\n",
       "OverallQual        0\n",
       "OverallCond        0\n",
       "YearBuilt          0\n",
       "YearRemodAdd       0\n",
       "MasVnrArea        15\n",
       "BsmtFinSF1         1\n",
       "BsmtFinSF2         1\n",
       "BsmtUnfSF          1\n",
       "TotalBsmtSF        1\n",
       "1stFlrSF           0\n",
       "2ndFlrSF           0\n",
       "LowQualFinSF       0\n",
       "GrLivArea          0\n",
       "BsmtFullBath       2\n",
       "BsmtHalfBath       2\n",
       "FullBath           0\n",
       "HalfBath           0\n",
       "BedroomAbvGr       0\n",
       "KitchenAbvGr       0\n",
       "TotRmsAbvGrd       0\n",
       "Fireplaces         0\n",
       "GarageYrBlt       78\n",
       "GarageCars         1\n",
       "GarageArea         1\n",
       "WoodDeckSF         0\n",
       "OpenPorchSF        0\n",
       "EnclosedPorch      0\n",
       "3SsnPorch          0\n",
       "ScreenPorch        0\n",
       "PoolArea           0\n",
       "MiscVal            0\n",
       "MoSold             0\n",
       "YrSold             0\n",
       "dtype: uint64"
      ]
     },
     "execution_count": 32,
     "metadata": {},
     "output_type": "execute_result"
    }
   ],
   "source": [
    "data.isnull().sum()"
   ]
  },
  {
   "cell_type": "code",
   "execution_count": 33,
   "id": "ea1b55b6",
   "metadata": {
    "execution": {
     "iopub.execute_input": "2022-02-28T17:41:04.789309Z",
     "iopub.status.busy": "2022-02-28T17:41:04.788501Z",
     "iopub.status.idle": "2022-02-28T17:41:05.482071Z",
     "shell.execute_reply": "2022-02-28T17:41:05.481169Z",
     "shell.execute_reply.started": "2022-02-28T17:38:30.223530Z"
    },
    "papermill": {
     "duration": 0.744326,
     "end_time": "2022-02-28T17:41:05.482254",
     "exception": false,
     "start_time": "2022-02-28T17:41:04.737928",
     "status": "completed"
    },
    "tags": []
   },
   "outputs": [],
   "source": [
    "data.fillna(data.median(), inplace = True)"
   ]
  },
  {
   "cell_type": "code",
   "execution_count": 34,
   "id": "d6a40cca",
   "metadata": {
    "execution": {
     "iopub.execute_input": "2022-02-28T17:41:05.583413Z",
     "iopub.status.busy": "2022-02-28T17:41:05.582571Z",
     "iopub.status.idle": "2022-02-28T17:41:05.638169Z",
     "shell.execute_reply": "2022-02-28T17:41:05.637688Z",
     "shell.execute_reply.started": "2022-02-28T17:38:30.934981Z"
    },
    "papermill": {
     "duration": 0.108362,
     "end_time": "2022-02-28T17:41:05.638306",
     "exception": false,
     "start_time": "2022-02-28T17:41:05.529944",
     "status": "completed"
    },
    "tags": []
   },
   "outputs": [],
   "source": [
    "skew_features = [col for col in data.columns if abs(data[col].skew()) > 0.5]"
   ]
  },
  {
   "cell_type": "code",
   "execution_count": 35,
   "id": "9b960d85",
   "metadata": {
    "execution": {
     "iopub.execute_input": "2022-02-28T17:41:05.738570Z",
     "iopub.status.busy": "2022-02-28T17:41:05.737686Z",
     "iopub.status.idle": "2022-02-28T17:41:05.754342Z",
     "shell.execute_reply": "2022-02-28T17:41:05.754820Z",
     "shell.execute_reply.started": "2022-02-28T17:38:30.998588Z"
    },
    "papermill": {
     "duration": 0.069172,
     "end_time": "2022-02-28T17:41:05.755007",
     "exception": false,
     "start_time": "2022-02-28T17:41:05.685835",
     "status": "completed"
    },
    "tags": []
   },
   "outputs": [],
   "source": [
    "for feature in skew_features:\n",
    "    data[feature] = cupy.log1p(data[feature])"
   ]
  },
  {
   "cell_type": "code",
   "execution_count": 36,
   "id": "656e0c3a",
   "metadata": {
    "execution": {
     "iopub.execute_input": "2022-02-28T17:41:05.871913Z",
     "iopub.status.busy": "2022-02-28T17:41:05.870899Z",
     "iopub.status.idle": "2022-02-28T17:41:05.885992Z",
     "shell.execute_reply": "2022-02-28T17:41:05.886629Z",
     "shell.execute_reply.started": "2022-02-28T17:38:31.247196Z"
    },
    "papermill": {
     "duration": 0.0753,
     "end_time": "2022-02-28T17:41:05.886850",
     "exception": false,
     "start_time": "2022-02-28T17:41:05.811550",
     "status": "completed"
    },
    "tags": []
   },
   "outputs": [
    {
     "name": "stdout",
     "output_type": "stream",
     "text": [
      "(1459, 5)\n"
     ]
    }
   ],
   "source": [
    "data = pca.fit_transform(data)\n",
    "print(data.shape)"
   ]
  },
  {
   "cell_type": "code",
   "execution_count": 37,
   "id": "06fe26bd",
   "metadata": {
    "execution": {
     "iopub.execute_input": "2022-02-28T17:41:06.006411Z",
     "iopub.status.busy": "2022-02-28T17:41:06.005498Z",
     "iopub.status.idle": "2022-02-28T17:41:06.015945Z",
     "shell.execute_reply": "2022-02-28T17:41:06.016486Z",
     "shell.execute_reply.started": "2022-02-28T17:38:31.778144Z"
    },
    "papermill": {
     "duration": 0.072582,
     "end_time": "2022-02-28T17:41:06.016651",
     "exception": false,
     "start_time": "2022-02-28T17:41:05.944069",
     "status": "completed"
    },
    "tags": []
   },
   "outputs": [],
   "source": [
    "data = std_scaler.fit_transform(data)"
   ]
  },
  {
   "cell_type": "code",
   "execution_count": 38,
   "id": "e66300dd",
   "metadata": {
    "execution": {
     "iopub.execute_input": "2022-02-28T17:41:06.129404Z",
     "iopub.status.busy": "2022-02-28T17:41:06.128528Z",
     "iopub.status.idle": "2022-02-28T17:41:06.134206Z",
     "shell.execute_reply": "2022-02-28T17:41:06.133745Z",
     "shell.execute_reply.started": "2022-02-28T17:38:32.066851Z"
    },
    "papermill": {
     "duration": 0.059816,
     "end_time": "2022-02-28T17:41:06.134327",
     "exception": false,
     "start_time": "2022-02-28T17:41:06.074511",
     "status": "completed"
    },
    "tags": []
   },
   "outputs": [],
   "source": [
    "ridge_model = pca_nl_models[0]\n",
    "y_pred = ridge_model.predict(data)"
   ]
  },
  {
   "cell_type": "code",
   "execution_count": 39,
   "id": "d82b74db",
   "metadata": {
    "execution": {
     "iopub.execute_input": "2022-02-28T17:41:06.238609Z",
     "iopub.status.busy": "2022-02-28T17:41:06.236900Z",
     "iopub.status.idle": "2022-02-28T17:41:06.291055Z",
     "shell.execute_reply": "2022-02-28T17:41:06.291635Z",
     "shell.execute_reply.started": "2022-02-28T17:38:32.271269Z"
    },
    "papermill": {
     "duration": 0.108965,
     "end_time": "2022-02-28T17:41:06.291830",
     "exception": false,
     "start_time": "2022-02-28T17:41:06.182865",
     "status": "completed"
    },
    "tags": []
   },
   "outputs": [
    {
     "name": "stdout",
     "output_type": "stream",
     "text": [
      "<class 'cudf.core.dataframe.DataFrame'>\n",
      "RangeIndex: 1459 entries, 0 to 1458\n",
      "Data columns (total 2 columns):\n",
      " #   Column     Non-Null Count  Dtype\n",
      "---  ------     --------------  -----\n",
      " 0   Id         1459 non-null   int32\n",
      " 1   SalePrice  1459 non-null   float64\n",
      "dtypes: float64(1), int32(1)\n",
      "memory usage: 17.1 KB\n",
      "None\n"
     ]
    },
    {
     "data": {
      "text/html": [
       "<div>\n",
       "<style scoped>\n",
       "    .dataframe tbody tr th:only-of-type {\n",
       "        vertical-align: middle;\n",
       "    }\n",
       "\n",
       "    .dataframe tbody tr th {\n",
       "        vertical-align: top;\n",
       "    }\n",
       "\n",
       "    .dataframe thead th {\n",
       "        text-align: right;\n",
       "    }\n",
       "</style>\n",
       "<table border=\"1\" class=\"dataframe\">\n",
       "  <thead>\n",
       "    <tr style=\"text-align: right;\">\n",
       "      <th></th>\n",
       "      <th>Id</th>\n",
       "      <th>SalePrice</th>\n",
       "    </tr>\n",
       "  </thead>\n",
       "  <tbody>\n",
       "    <tr>\n",
       "      <th>0</th>\n",
       "      <td>1461</td>\n",
       "      <td>79995.281702</td>\n",
       "    </tr>\n",
       "    <tr>\n",
       "      <th>1</th>\n",
       "      <td>1462</td>\n",
       "      <td>221396.233954</td>\n",
       "    </tr>\n",
       "    <tr>\n",
       "      <th>2</th>\n",
       "      <td>1463</td>\n",
       "      <td>193686.412351</td>\n",
       "    </tr>\n",
       "    <tr>\n",
       "      <th>3</th>\n",
       "      <td>1464</td>\n",
       "      <td>196908.133524</td>\n",
       "    </tr>\n",
       "    <tr>\n",
       "      <th>4</th>\n",
       "      <td>1465</td>\n",
       "      <td>168406.778065</td>\n",
       "    </tr>\n",
       "    <tr>\n",
       "      <th>...</th>\n",
       "      <td>...</td>\n",
       "      <td>...</td>\n",
       "    </tr>\n",
       "    <tr>\n",
       "      <th>1454</th>\n",
       "      <td>2915</td>\n",
       "      <td>339525.140121</td>\n",
       "    </tr>\n",
       "    <tr>\n",
       "      <th>1455</th>\n",
       "      <td>2916</td>\n",
       "      <td>247091.851982</td>\n",
       "    </tr>\n",
       "    <tr>\n",
       "      <th>1456</th>\n",
       "      <td>2917</td>\n",
       "      <td>147152.603009</td>\n",
       "    </tr>\n",
       "    <tr>\n",
       "      <th>1457</th>\n",
       "      <td>2918</td>\n",
       "      <td>336895.884877</td>\n",
       "    </tr>\n",
       "    <tr>\n",
       "      <th>1458</th>\n",
       "      <td>2919</td>\n",
       "      <td>134659.578055</td>\n",
       "    </tr>\n",
       "  </tbody>\n",
       "</table>\n",
       "<p>1459 rows × 2 columns</p>\n",
       "</div>"
      ],
      "text/plain": [
       "        Id      SalePrice\n",
       "0     1461   79995.281702\n",
       "1     1462  221396.233954\n",
       "2     1463  193686.412351\n",
       "3     1464  196908.133524\n",
       "4     1465  168406.778065\n",
       "...    ...            ...\n",
       "1454  2915  339525.140121\n",
       "1455  2916  247091.851982\n",
       "1456  2917  147152.603009\n",
       "1457  2918  336895.884877\n",
       "1458  2919  134659.578055\n",
       "\n",
       "[1459 rows x 2 columns]"
      ]
     },
     "execution_count": 39,
     "metadata": {},
     "output_type": "execute_result"
    }
   ],
   "source": [
    "predictions = {\n",
    "    'Id': t_data['Id'].astype('int32'),\n",
    "    'SalePrice': y_pred,\n",
    "}\n",
    "sub = cudf.DataFrame(predictions)\n",
    "print(sub.info())\n",
    "sub"
   ]
  },
  {
   "cell_type": "code",
   "execution_count": 40,
   "id": "87369bfd",
   "metadata": {
    "execution": {
     "iopub.execute_input": "2022-02-28T17:41:06.393696Z",
     "iopub.status.busy": "2022-02-28T17:41:06.393067Z",
     "iopub.status.idle": "2022-02-28T17:41:06.402277Z",
     "shell.execute_reply": "2022-02-28T17:41:06.401791Z",
     "shell.execute_reply.started": "2022-02-28T17:38:32.476027Z"
    },
    "papermill": {
     "duration": 0.062038,
     "end_time": "2022-02-28T17:41:06.402398",
     "exception": false,
     "start_time": "2022-02-28T17:41:06.340360",
     "status": "completed"
    },
    "tags": []
   },
   "outputs": [],
   "source": [
    "sub.to_csv('submission.csv', index=False)"
   ]
  },
  {
   "cell_type": "code",
   "execution_count": null,
   "id": "d0f97f63",
   "metadata": {
    "papermill": {
     "duration": 0.047907,
     "end_time": "2022-02-28T17:41:06.498743",
     "exception": false,
     "start_time": "2022-02-28T17:41:06.450836",
     "status": "completed"
    },
    "tags": []
   },
   "outputs": [],
   "source": []
  },
  {
   "cell_type": "code",
   "execution_count": null,
   "id": "4624f3e9",
   "metadata": {
    "papermill": {
     "duration": 0.048786,
     "end_time": "2022-02-28T17:41:06.595854",
     "exception": false,
     "start_time": "2022-02-28T17:41:06.547068",
     "status": "completed"
    },
    "tags": []
   },
   "outputs": [],
   "source": []
  },
  {
   "cell_type": "code",
   "execution_count": null,
   "id": "1707eb30",
   "metadata": {
    "papermill": {
     "duration": 0.048284,
     "end_time": "2022-02-28T17:41:06.692596",
     "exception": false,
     "start_time": "2022-02-28T17:41:06.644312",
     "status": "completed"
    },
    "tags": []
   },
   "outputs": [],
   "source": []
  }
 ],
 "metadata": {
  "kernelspec": {
   "display_name": "Python 3",
   "language": "python",
   "name": "python3"
  },
  "language_info": {
   "codemirror_mode": {
    "name": "ipython",
    "version": 3
   },
   "file_extension": ".py",
   "mimetype": "text/x-python",
   "name": "python",
   "nbconvert_exporter": "python",
   "pygments_lexer": "ipython3",
   "version": "3.7.12"
  },
  "papermill": {
   "default_parameters": {},
   "duration": 39.121515,
   "end_time": "2022-02-28T17:41:08.153640",
   "environment_variables": {},
   "exception": null,
   "input_path": "__notebook__.ipynb",
   "output_path": "__notebook__.ipynb",
   "parameters": {},
   "start_time": "2022-02-28T17:40:29.032125",
   "version": "2.3.3"
  }
 },
 "nbformat": 4,
 "nbformat_minor": 5
}
